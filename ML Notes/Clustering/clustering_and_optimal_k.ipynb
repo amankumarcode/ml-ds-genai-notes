{
  "cells": [
    {
      "cell_type": "markdown",
      "metadata": {
        "vscode": {
          "languageId": "raw"
        }
      },
      "source": [
        "# Clustering & Optimal Cluster Selection (Simple Guide)\n",
        "\n",
        "This notebook gives a quick, practical overview of clustering and how to choose the number of clusters (K) in simple terms.\n"
      ]
    },
    {
      "cell_type": "markdown",
      "metadata": {
        "vscode": {
          "languageId": "raw"
        }
      },
      "source": [
        "## What is Clustering?\n",
        "\n",
        "- **Goal**: Group similar data points together without labels (unsupervised learning).\n",
        "- **Intuition**: Points within the same cluster are close; points in different clusters are far.\n",
        "- **Popular algorithms**: K-Means, Hierarchical, DBSCAN (we'll focus on K-Means for simplicity).\n"
      ]
    },
    {
      "cell_type": "code",
      "execution_count": null,
      "metadata": {},
      "outputs": [
        {
          "name": "stderr",
          "output_type": "stream",
          "text": [
            "Matplotlib is building the font cache; this may take a moment.\n"
          ]
        }
      ],
      "source": [
        "# Imports\n",
        "import numpy as np\n",
        "import matplotlib.pyplot as plt\n",
        "from sklearn.datasets import make_blobs\n",
        "from sklearn.cluster import KMeans\n",
        "from sklearn.metrics import silhouette_score\n",
        "\n",
        "np.random.seed(42)\n"
      ]
    },
    {
      "cell_type": "markdown",
      "metadata": {
        "vscode": {
          "languageId": "raw"
        }
      },
      "source": [
        "## Create a Simple Dataset\n",
        "We'll generate a 2D dataset with clear cluster structure to visualize.\n"
      ]
    },
    {
      "cell_type": "code",
      "execution_count": null,
      "metadata": {},
      "outputs": [],
      "source": [
        "# Generate synthetic data with 3 clusters\n",
        "X, y_true = make_blobs(n_samples=600, centers=3, cluster_std=0.70, random_state=42)\n",
        "\n",
        "plt.figure(figsize=(5, 5))\n",
        "plt.scatter(X[:, 0], X[:, 1], s=10, alpha=0.6)\n",
        "plt.title(\"Synthetic data (unknown clusters)\")\n",
        "plt.show()\n"
      ]
    },
    {
      "cell_type": "markdown",
      "metadata": {
        "vscode": {
          "languageId": "raw"
        }
      },
      "source": [
        "## Quick K-Means Demo\n",
        "We'll try K-Means with K=3 (since we generated 3 clusters) and visualize the result.\n"
      ]
    },
    {
      "cell_type": "code",
      "execution_count": null,
      "metadata": {},
      "outputs": [],
      "source": [
        "k = 3\n",
        "kmeans = KMeans(n_clusters=k, n_init=10, random_state=42)\n",
        "labels = kmeans.fit_predict(X)\n",
        "centers = kmeans.cluster_centers_\n",
        "\n",
        "plt.figure(figsize=(5, 5))\n",
        "plt.scatter(X[:, 0], X[:, 1], c=labels, s=10, cmap='viridis', alpha=0.7)\n",
        "plt.scatter(centers[:, 0], centers[:, 1], c='red', s=120, marker='X', label='Centers')\n",
        "plt.title(f\"K-Means with K={k}\")\n",
        "plt.legend()\n",
        "plt.show()\n"
      ]
    },
    {
      "cell_type": "markdown",
      "metadata": {
        "vscode": {
          "languageId": "raw"
        }
      },
      "source": [
        "## How to Choose K? (Elbow Method)\n",
        "\n",
        "- **Idea**: As K increases, clusters fit better (lower distortion). But after some point, the improvement slows down. That \"elbow\" is a good K.\n",
        "- **Metric**: Inertia (sum of squared distances of samples to nearest cluster center). Lower is better.\n"
      ]
    },
    {
      "cell_type": "code",
      "execution_count": null,
      "metadata": {},
      "outputs": [],
      "source": [
        "inertias = []\n",
        "K_range = range(1, 10)\n",
        "for K in K_range:\n",
        "    km = KMeans(n_clusters=K, n_init=10, random_state=42).fit(X)\n",
        "    inertias.append(km.inertia_)\n",
        "\n",
        "plt.figure(figsize=(6, 4))\n",
        "plt.plot(list(K_range), inertias, marker='o')\n",
        "plt.xticks(list(K_range))\n",
        "plt.xlabel('K (number of clusters)')\n",
        "plt.ylabel('Inertia (within-cluster SSE)')\n",
        "plt.title('Elbow Method')\n",
        "plt.grid(True, alpha=0.3)\n",
        "plt.show()\n",
        "\n",
        "print(\"Look for the \\\"elbow\\\" point where reductions slow down.\")\n"
      ]
    },
    {
      "cell_type": "markdown",
      "metadata": {
        "vscode": {
          "languageId": "raw"
        }
      },
      "source": [
        "## Another Way: Silhouette Score\n",
        "\n",
        "- **Idea**: Measures how similar a point is to its own cluster vs. other clusters.\n",
        "- **Range**: -1 to 1 (higher is better). Values near 1 indicate well-separated clusters.\n",
        "- **Use**: Try different K and pick the one with highest average silhouette score.\n"
      ]
    },
    {
      "cell_type": "code",
      "execution_count": null,
      "metadata": {},
      "outputs": [],
      "source": [
        "sil_scores = []\n",
        "K_range = range(2, 10)  # silhouette needs at least 2 clusters\n",
        "for K in K_range:\n",
        "    km = KMeans(n_clusters=K, n_init=10, random_state=42)\n",
        "    labels = km.fit_predict(X)\n",
        "    sil = silhouette_score(X, labels)\n",
        "    sil_scores.append(sil)\n",
        "\n",
        "best_K = list(K_range)[int(np.argmax(sil_scores))]\n",
        "\n",
        "plt.figure(figsize=(6, 4))\n",
        "plt.plot(list(K_range), sil_scores, marker='o', color='purple')\n",
        "plt.xticks(list(K_range))\n",
        "plt.xlabel('K (number of clusters)')\n",
        "plt.ylabel('Average silhouette score')\n",
        "plt.title('Silhouette Scores by K')\n",
        "plt.grid(True, alpha=0.3)\n",
        "plt.show()\n",
        "\n",
        "print(f\"Best K by silhouette score seems to be: {best_K}\")\n"
      ]
    },
    {
      "cell_type": "markdown",
      "metadata": {
        "vscode": {
          "languageId": "raw"
        }
      },
      "source": [
        "## Quick Tips\n",
        "\n",
        "- **Scale features** before clustering if they are on different ranges (use StandardScaler).\n",
        "- Use **Elbow** for a quick visual guess; confirm with **Silhouette**.\n",
        "- Real data may not be perfectly spherical; consider **DBSCAN** or **Gaussian Mixture Models** if K-Means struggles.\n",
        "- Run K-Means with a reasonable `n_init` (e.g., 10–50) for stable results.\n"
      ]
    },
    {
      "cell_type": "markdown",
      "metadata": {
        "vscode": {
          "languageId": "raw"
        }
      },
      "source": [
        "## Putting It Together: Use the Best K\n",
        "We'll fit K-Means using the best K from the silhouette scores and visualize the result.\n"
      ]
    },
    {
      "cell_type": "code",
      "execution_count": null,
      "metadata": {},
      "outputs": [],
      "source": [
        "k = best_K\n",
        "kmeans_best = KMeans(n_clusters=k, n_init=10, random_state=42)\n",
        "labels_best = kmeans_best.fit_predict(X)\n",
        "centers_best = kmeans_best.cluster_centers_\n",
        "\n",
        "plt.figure(figsize=(5, 5))\n",
        "plt.scatter(X[:, 0], X[:, 1], c=labels_best, s=10, cmap='viridis', alpha=0.7)\n",
        "plt.scatter(centers_best[:, 0], centers_best[:, 1], c='red', s=120, marker='X', label='Centers')\n",
        "plt.title(f\"K-Means with K={k} (from silhouette)\")\n",
        "plt.legend()\n",
        "plt.show()\n"
      ]
    },
    {
      "cell_type": "markdown",
      "metadata": {
        "vscode": {
          "languageId": "raw"
        }
      },
      "source": [
        "## Conclusion\n",
        "- Clustering groups similar points without labels.\n",
        "- K-Means is simple and fast; choosing K matters.\n",
        "- Use **Elbow** to spot the diminishing returns, and **Silhouette** for separation quality.\n",
        "- In practice, combine both methods and domain knowledge.\n"
      ]
    }
  ],
  "metadata": {
    "kernelspec": {
      "display_name": ".venv",
      "language": "python",
      "name": "python3"
    },
    "language_info": {
      "codemirror_mode": {
        "name": "ipython",
        "version": 3
      },
      "file_extension": ".py",
      "mimetype": "text/x-python",
      "name": "python",
      "nbconvert_exporter": "python",
      "pygments_lexer": "ipython3",
      "version": "3.12.2"
    }
  },
  "nbformat": 4,
  "nbformat_minor": 2
}
