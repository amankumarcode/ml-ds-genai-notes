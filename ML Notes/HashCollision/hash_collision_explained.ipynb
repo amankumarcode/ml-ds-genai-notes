{
  "cells": [
    {
      "cell_type": "code",
      "execution_count": null,
      "metadata": {
        "vscode": {
          "languageId": "plaintext"
        }
      },
      "outputs": [],
      "source": [
        "# Hash Collisions: A Simple Explanation\n",
        "\n",
        "Welcome to this notebook where we'll explore **hash collisions** in simple terms with practical examples!\n",
        "\n",
        "## What is a Hash Function?\n",
        "\n",
        "A **hash function** is like a magic box that takes any input (text, numbers, files) and converts it into a fixed-size output called a **hash** or **hash value**.\n",
        "\n",
        "Think of it like a fingerprint for data:\n",
        "- Every input gets a unique \"fingerprint\" (hash)\n",
        "- All fingerprints are the same length\n",
        "- You can't reverse-engineer the original input from the fingerprint\n",
        "\n",
        "## What is a Hash Collision?\n",
        "\n",
        "A **hash collision** occurs when two different inputs produce the same hash output. It's like two different people having identical fingerprints!\n",
        "\n",
        "This notebook will show you:\n",
        "1. How hash functions work\n",
        "2. What hash collisions look like\n",
        "3. Why they happen\n",
        "4. Real examples in Python\n"
      ]
    },
    {
      "cell_type": "code",
      "execution_count": 2,
      "metadata": {},
      "outputs": [
        {
          "name": "stdout",
          "output_type": "stream",
          "text": [
            "Ready to explore hash collisions!\n"
          ]
        }
      ],
      "source": [
        "# Let's start with imports we'll need\n",
        "import hashlib\n",
        "import random\n",
        "import string\n",
        "\n",
        "print(\"Ready to explore hash collisions!\")\n"
      ]
    },
    {
      "cell_type": "code",
      "execution_count": null,
      "metadata": {},
      "outputs": [],
      "source": [
        "## 1. Let's Create a Simple Hash Function\n",
        "\n",
        "First, let's build our own very simple hash function to understand the concept:\n"
      ]
    },
    {
      "cell_type": "code",
      "execution_count": 3,
      "metadata": {},
      "outputs": [
        {
          "name": "stdout",
          "output_type": "stream",
          "text": [
            "Testing our simple hash function:\n",
            "----------------------------------------\n",
            "'hello' → 2\n",
            "'world' → 2\n",
            "'python' → 4\n",
            "'hash' → 0\n",
            "'collision' → 2\n",
            "\n",
            "Our hash function returns values from 0 to 9 (hash_size = 10)\n"
          ]
        }
      ],
      "source": [
        "def simple_hash(text, hash_size=10):\n",
        "    \"\"\"\n",
        "    A very simple hash function that:\n",
        "    1. Converts each character to its ASCII value\n",
        "    2. Sums all ASCII values\n",
        "    3. Takes modulo hash_size to get a fixed range\n",
        "    \"\"\"\n",
        "    total = 0\n",
        "    for char in text:\n",
        "        total += ord(char)  # ord() gives ASCII value\n",
        "    \n",
        "    return total % hash_size\n",
        "\n",
        "# Let's test our simple hash function\n",
        "test_words = [\"hello\", \"world\", \"python\", \"hash\", \"collision\"]\n",
        "\n",
        "print(\"Testing our simple hash function:\")\n",
        "print(\"-\" * 40)\n",
        "for word in test_words:\n",
        "    hash_value = simple_hash(word)\n",
        "    print(f\"'{word}' → {hash_value}\")\n",
        "    \n",
        "print(f\"\\nOur hash function returns values from 0 to 9 (hash_size = 10)\")\n"
      ]
    },
    {
      "cell_type": "code",
      "execution_count": null,
      "metadata": {},
      "outputs": [],
      "source": [
        "## 2. Finding Hash Collisions\n",
        "\n",
        "Now let's deliberately find some hash collisions with our simple function. Since we only have 10 possible outputs (0-9), collisions are very likely!\n"
      ]
    },
    {
      "cell_type": "code",
      "execution_count": null,
      "metadata": {},
      "outputs": [
        {
          "name": "stdout",
          "output_type": "stream",
          "text": [
            "HASH COLLISIONS FOUND:\n",
            "==================================================\n",
            "1. Hash 3: 'svqyfgo' ≈ 'lgp'\n",
            "2. Hash 6: 'wzmrvvvl' ≈ 'wczqpy'\n",
            "3. Hash 3: 'svqyfgo' ≈ 'tsz'\n",
            "4. Hash 3: 'svqyfgo' ≈ 'bomujp'\n",
            "5. Hash 2: 'epdzble' ≈ 'hhtbmwp'\n",
            "\n",
            "Found 190 collisions out of 200 attempts!\n"
          ]
        }
      ],
      "source": [
        "# Let's find hash collisions by testing many random strings\n",
        "def find_collisions(num_tests=100):\n",
        "    \"\"\"Generate random strings and look for hash collisions\"\"\"\n",
        "    hash_table = {}  # Dictionary to store hash → list of strings\n",
        "    collisions = []\n",
        "    \n",
        "    for i in range(num_tests):\n",
        "        # Generate a random string\n",
        "        length = random.randint(3, 8)\n",
        "        random_string = ''.join(random.choices(string.ascii_lowercase, k=length))\n",
        "        \n",
        "        # Calculate its hash\n",
        "        hash_value = simple_hash(random_string)\n",
        "        \n",
        "        # Check if we've seen this hash before\n",
        "        if hash_value in hash_table:\n",
        "            # COLLISION FOUND! \n",
        "            collisions.append({\n",
        "                'hash': hash_value,\n",
        "                'string1': hash_table[hash_value][0],  # First string with this hash\n",
        "                'string2': random_string               # New string with same hash\n",
        "            })\n",
        "            hash_table[hash_value].append(random_string)\n",
        "        else:\n",
        "            hash_table[hash_value] = [random_string]\n",
        "    \n",
        "    return collisions, hash_table\n",
        "\n",
        "# Find some collisions!\n",
        "collisions, hash_table = find_collisions(200)\n",
        "\n",
        "print(\"HASH COLLISIONS FOUND:\")\n",
        "print(\"=\" * 50)\n",
        "\n",
        "if collisions:\n",
        "    for i, collision in enumerate(collisions[:5]):  # Show first 5 collisions\n",
        "        print(f\"{i+1}. Hash {collision['hash']}: '{collision['string1']}' ≈ '{collision['string2']}'\")\n",
        "        \n",
        "    print(f\"\\nFound {len(collisions)} collisions out of 200 attempts!\")\n",
        "else:\n",
        "    print(\"No collisions found this time. Try running again!\")\n"
      ]
    },
    {
      "cell_type": "code",
      "execution_count": null,
      "metadata": {},
      "outputs": [],
      "source": [
        "## 3. Why Do Hash Collisions Happen?\n",
        "\n",
        "Hash collisions are inevitable due to the **Pigeonhole Principle**:\n",
        "\n",
        "**Pigeonhole Principle**: If you have more items than containers, at least one container must hold multiple items.\n",
        "\n",
        "In our case:\n",
        "- **Items**: Infinite possible input strings (\"hello\", \"world\", \"abc123\", etc.)\n",
        "- **Containers**: Limited hash outputs (only 0-9 in our simple function)\n",
        "\n",
        "**Result**: Multiple different inputs must map to the same hash value!\n"
      ]
    },
    {
      "cell_type": "code",
      "execution_count": 6,
      "metadata": {},
      "outputs": [
        {
          "name": "stdout",
          "output_type": "stream",
          "text": [
            "Distribution of our hash values:\n",
            "----------------------------------------\n",
            "Hash 0: 19 strings ['xbp', 'ktan', 'lezyv']...\n",
            "Hash 1: 20 strings ['jvlmohi', 'pfty', 'aaashe']...\n",
            "Hash 2: 25 strings ['epdzble', 'hhtbmwp', 'xerbw']...\n",
            "Hash 3: 22 strings ['svqyfgo', 'lgp', 'tsz']...\n",
            "Hash 4: 21 strings ['tumjhf', 'arvkmbe', 'lale']...\n",
            "Hash 5: 17 strings ['hktlqcln', 'oxjndl', 'qbku']...\n",
            "Hash 6: 19 strings ['wzmrvvvl', 'wczqpy', 'gojt']...\n",
            "Hash 7: 19 strings ['tggjw', 'slpjoi', 'rfpzlfk']...\n",
            "Hash 8: 21 strings ['typsh', 'fqqxrqli', 'ajs']...\n",
            "Hash 9: 17 strings ['tcuu', 'szlwwnt', 'jdztbk']...\n",
            "\n",
            "💡 Even with just 200 random strings, we see multiple strings sharing the same hash!\n"
          ]
        }
      ],
      "source": [
        "# Let's demonstrate this with a visual representation\n",
        "print(\"Distribution of our hash values:\")\n",
        "print(\"-\" * 40)\n",
        "\n",
        "# Count how many strings map to each hash value\n",
        "for hash_val in range(10):\n",
        "    if hash_val in hash_table:\n",
        "        count = len(hash_table[hash_val])\n",
        "        strings_sample = hash_table[hash_val][:3]  # Show first 3 examples\n",
        "        print(f\"Hash {hash_val}: {count} strings {strings_sample}{'...' if count > 3 else ''}\")\n",
        "    else:\n",
        "        print(f\"Hash {hash_val}: 0 strings []\")\n",
        "\n",
        "print(f\"\\n💡 Even with just 200 random strings, we see multiple strings sharing the same hash!\")\n"
      ]
    },
    {
      "cell_type": "code",
      "execution_count": null,
      "metadata": {},
      "outputs": [],
      "source": [
        "## 4. Real-World Hash Functions\n",
        "\n",
        "Now let's look at real hash functions used in Python. These are much more sophisticated but still experience collisions!\n"
      ]
    },
    {
      "cell_type": "code",
      "execution_count": 7,
      "metadata": {},
      "outputs": [
        {
          "name": "stdout",
          "output_type": "stream",
          "text": [
            "Python's built-in hash() function:\n",
            "---------------------------------------------\n",
            "hash('hello') = -3939732756565599515\n",
            "hash('world') = 5588079891271341998\n",
            "hash('python') = 9186798187761905292\n",
            "hash('hash') = -3011916274236030205\n",
            "hash('collision') = 4949042087085750037\n",
            "hash(42) = 42\n",
            "hash(3.14) = 322818021289917443\n",
            "\n",
            "Python's hash() produces much larger numbers and is more complex!\n",
            "\n",
            "MD5 cryptographic hash function:\n",
            "---------------------------------------------\n",
            "MD5('hello') = 5d41402abc4b2a76b9719d911017c592\n",
            "MD5('world') = 7d793037a0760186574b0282f2f435e7\n",
            "MD5('python') = 23eeeb4347bdd26bfc6b7ee9a3b755dd\n",
            "\n",
            "MD5 produces 128-bit hashes (2^128 ≈ 3.4 × 10^38 possible values!)\n"
          ]
        }
      ],
      "source": [
        "# Python's built-in hash() function\n",
        "print(\"Python's built-in hash() function:\")\n",
        "print(\"-\" * 45)\n",
        "\n",
        "sample_data = [\"hello\", \"world\", \"python\", \"hash\", \"collision\", 42, 3.14]\n",
        "\n",
        "for item in sample_data:\n",
        "    hash_value = hash(item)\n",
        "    print(f\"hash({repr(item)}) = {hash_value}\")\n",
        "\n",
        "print(\"\\nPython's hash() produces much larger numbers and is more complex!\")\n",
        "\n",
        "# Let's also try MD5 (a cryptographic hash function)\n",
        "print(\"\\nMD5 cryptographic hash function:\")\n",
        "print(\"-\" * 45)\n",
        "\n",
        "for item in [\"hello\", \"world\", \"python\"]:\n",
        "    # MD5 produces a 128-bit hash (32 hexadecimal characters)\n",
        "    md5_hash = hashlib.md5(item.encode()).hexdigest()\n",
        "    print(f\"MD5('{item}') = {md5_hash}\")\n",
        "\n",
        "print(\"\\nMD5 produces 128-bit hashes (2^128 ≈ 3.4 × 10^38 possible values!)\")\n"
      ]
    },
    {
      "cell_type": "code",
      "execution_count": null,
      "metadata": {},
      "outputs": [],
      "source": []
    }
  ],
  "metadata": {
    "kernelspec": {
      "display_name": ".venv",
      "language": "python",
      "name": "python3"
    },
    "language_info": {
      "codemirror_mode": {
        "name": "ipython",
        "version": 3
      },
      "file_extension": ".py",
      "mimetype": "text/x-python",
      "name": "python",
      "nbconvert_exporter": "python",
      "pygments_lexer": "ipython3",
      "version": "3.12.2"
    }
  },
  "nbformat": 4,
  "nbformat_minor": 2
}
